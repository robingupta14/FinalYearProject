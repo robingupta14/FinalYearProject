{
 "cells": [
  {
   "cell_type": "code",
   "execution_count": 6,
   "metadata": {},
   "outputs": [],
   "source": [
    "import torch\n",
    "from transformers import RobertaTokenizer, RobertaConfig, RobertaModel, AutoTokenizer, AutoModelForSequenceClassification\n",
    "from torch import nn\n",
    "from tqdm import tqdm"
   ]
  },
  {
   "cell_type": "code",
   "execution_count": 7,
   "metadata": {},
   "outputs": [],
   "source": [
    "codeBERT = \"microsoft/codebert-base\"\n",
    "device = torch.device(\"cuda\" if torch.cuda.is_available() else \"cpu\")\n",
    "tokenizer = RobertaTokenizer.from_pretrained(codeBERT)"
   ]
  },
  {
   "cell_type": "code",
   "execution_count": 35,
   "metadata": {},
   "outputs": [
    {
     "name": "stderr",
     "output_type": "stream",
     "text": [
      "Some weights of RobertaForSequenceClassification were not initialized from the model checkpoint at microsoft/codebert-base and are newly initialized: ['classifier.dense.bias', 'classifier.dense.weight', 'classifier.out_proj.bias', 'classifier.out_proj.weight']\n",
      "You should probably TRAIN this model on a down-stream task to be able to use it for predictions and inference.\n",
      "Processing batch: 100%|██████████| 1/1 [00:00<00:00,  6.08example/s]\n"
     ]
    }
   ],
   "source": [
    "prompt_tokens = tokenizer.tokenize(\"Given the following C code, determine if it has an out of bounds read vulnerability (CWE-125). If there is a vulnerability, output '1'. If there is no vulnerability, output '0'.\")\n",
    "code_tokens = tokenizer.tokenize(\"int main() { int c = 2; int arr[] = {1}; printf(\\\"%d\\\", arr[c]);}\")\n",
    "inputs = tokenizer.encode_plus(\"\".join(prompt_tokens), \"\".join(code_tokens), add_special_tokens=True, padding=True, truncation=True, return_tensors=\"pt\")\n",
    "classification_model = AutoModelForSequenceClassification.from_pretrained(\"microsoft/codebert-base\")\n",
    "classification_model.to(device)\n",
    "# i haven't done any fine tuning, this will be done and specific to each CVE and hopefully improve results\n",
    "for input_data in tqdm([inputs], desc=\"Processing batch\", unit=\"example\"):\n",
    "    input_ids = inputs['input_ids'].to(device)\n",
    "    attention_mask = inputs['attention_mask'].to(device)\n",
    "\n",
    "    with torch.no_grad():\n",
    "        outputs = classification_model(input_ids=input_ids, attention_mask=attention_mask)"
   ]
  },
  {
   "cell_type": "code",
   "execution_count": 36,
   "metadata": {},
   "outputs": [
    {
     "name": "stdout",
     "output_type": "stream",
     "text": [
      "tensor([[ 0.0828, -0.0939]])\n",
      "0\n"
     ]
    }
   ],
   "source": [
    "logits = outputs.logits\n",
    "print(logits)\n",
    "predicted_class = torch.argmax(logits, dim=1).item()\n",
    "print(predicted_class) "
   ]
  }
 ],
 "metadata": {
  "kernelspec": {
   "display_name": "Python 3",
   "language": "python",
   "name": "python3"
  },
  "language_info": {
   "codemirror_mode": {
    "name": "ipython",
    "version": 3
   },
   "file_extension": ".py",
   "mimetype": "text/x-python",
   "name": "python",
   "nbconvert_exporter": "python",
   "pygments_lexer": "ipython3",
   "version": "3.12.8"
  }
 },
 "nbformat": 4,
 "nbformat_minor": 2
}
